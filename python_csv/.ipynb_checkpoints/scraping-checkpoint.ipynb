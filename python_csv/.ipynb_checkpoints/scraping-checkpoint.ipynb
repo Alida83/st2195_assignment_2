{
 "cells": [
  {
   "cell_type": "markdown",
   "id": "5fb7933c",
   "metadata": {},
   "source": [
    "# Practice Assignment II\n",
    "## *Python*\n",
    "> Scrape the content of this [wikipedia page](https://en.wikipedia.org/wiki/Comma-separated_values), and save the contents of the table in the page to a CSV file."
   ]
  },
  {
   "cell_type": "markdown",
   "id": "34ecf5d9",
   "metadata": {},
   "source": [
    "#### Import libraries"
   ]
  },
  {
   "cell_type": "code",
   "execution_count": 36,
   "id": "634395ea",
   "metadata": {},
   "outputs": [],
   "source": [
    "import numpy as np\n",
    "from bs4 import BeautifulSoup\n",
    "import requests\n",
    "import pandas as pd"
   ]
  },
  {
   "cell_type": "markdown",
   "id": "7f2d2b99",
   "metadata": {},
   "source": [
    "#### Store the URL in a variable"
   ]
  },
  {
   "cell_type": "code",
   "execution_count": 37,
   "id": "00005a92",
   "metadata": {},
   "outputs": [],
   "source": [
    "url = \"https://en.wikipedia.org/wiki/Comma-separated_values\""
   ]
  },
  {
   "cell_type": "markdown",
   "id": "8e1b830d",
   "metadata": {},
   "source": [
    "## Pandas Solution\n",
    "#### Use pandas' `read_html` method to scrape the table with class *wikitable*, and store it in a dataframe."
   ]
  },
  {
   "cell_type": "code",
   "execution_count": 38,
   "id": "a5d0f12d",
   "metadata": {},
   "outputs": [],
   "source": [
    "df1 = pd.read_html(url, attrs={\"class\": \"wikitable\"})[0]"
   ]
  },
  {
   "cell_type": "markdown",
   "id": "83481037",
   "metadata": {},
   "source": [
    "#### Verify that the data has been correctly stored."
   ]
  },
  {
   "cell_type": "code",
   "execution_count": 39,
   "id": "207c3679",
   "metadata": {},
   "outputs": [
    {
     "data": {
      "text/html": [
       "<div>\n",
       "<style scoped>\n",
       "    .dataframe tbody tr th:only-of-type {\n",
       "        vertical-align: middle;\n",
       "    }\n",
       "\n",
       "    .dataframe tbody tr th {\n",
       "        vertical-align: top;\n",
       "    }\n",
       "\n",
       "    .dataframe thead th {\n",
       "        text-align: right;\n",
       "    }\n",
       "</style>\n",
       "<table border=\"1\" class=\"dataframe\">\n",
       "  <thead>\n",
       "    <tr style=\"text-align: right;\">\n",
       "      <th></th>\n",
       "      <th>Year</th>\n",
       "      <th>Make</th>\n",
       "      <th>Model</th>\n",
       "      <th>Description</th>\n",
       "      <th>Price</th>\n",
       "    </tr>\n",
       "  </thead>\n",
       "  <tbody>\n",
       "    <tr>\n",
       "      <th>0</th>\n",
       "      <td>1997</td>\n",
       "      <td>Ford</td>\n",
       "      <td>E350</td>\n",
       "      <td>ac, abs, moon</td>\n",
       "      <td>3000.0</td>\n",
       "    </tr>\n",
       "    <tr>\n",
       "      <th>1</th>\n",
       "      <td>1999</td>\n",
       "      <td>Chevy</td>\n",
       "      <td>Venture \"Extended Edition\"</td>\n",
       "      <td>NaN</td>\n",
       "      <td>4900.0</td>\n",
       "    </tr>\n",
       "    <tr>\n",
       "      <th>2</th>\n",
       "      <td>1999</td>\n",
       "      <td>Chevy</td>\n",
       "      <td>Venture \"Extended Edition, Very Large\"</td>\n",
       "      <td>NaN</td>\n",
       "      <td>5000.0</td>\n",
       "    </tr>\n",
       "    <tr>\n",
       "      <th>3</th>\n",
       "      <td>1996</td>\n",
       "      <td>Jeep</td>\n",
       "      <td>Grand Cherokee</td>\n",
       "      <td>MUST SELL!air, moon roof, loaded</td>\n",
       "      <td>4799.0</td>\n",
       "    </tr>\n",
       "  </tbody>\n",
       "</table>\n",
       "</div>"
      ],
      "text/plain": [
       "   Year   Make                                   Model  \\\n",
       "0  1997   Ford                                    E350   \n",
       "1  1999  Chevy              Venture \"Extended Edition\"   \n",
       "2  1999  Chevy  Venture \"Extended Edition, Very Large\"   \n",
       "3  1996   Jeep                          Grand Cherokee   \n",
       "\n",
       "                        Description   Price  \n",
       "0                     ac, abs, moon  3000.0  \n",
       "1                               NaN  4900.0  \n",
       "2                               NaN  5000.0  \n",
       "3  MUST SELL!air, moon roof, loaded  4799.0  "
      ]
     },
     "execution_count": 39,
     "metadata": {},
     "output_type": "execute_result"
    }
   ],
   "source": [
    "df1.head()"
   ]
  },
  {
   "cell_type": "code",
   "execution_count": 40,
   "id": "273a3a79",
   "metadata": {},
   "outputs": [
    {
     "data": {
      "text/plain": [
       "Year             int64\n",
       "Make            object\n",
       "Model           object\n",
       "Description     object\n",
       "Price          float64\n",
       "dtype: object"
      ]
     },
     "execution_count": 40,
     "metadata": {},
     "output_type": "execute_result"
    }
   ],
   "source": [
    "df1.dtypes"
   ]
  },
  {
   "cell_type": "markdown",
   "id": "37d0393f",
   "metadata": {},
   "source": [
    "#### Save the dataframe in a csv file.<br>Since some of the columns contain strings with commas, use semicolumns as the separator."
   ]
  },
  {
   "cell_type": "code",
   "execution_count": 41,
   "id": "4d852d1d",
   "metadata": {},
   "outputs": [],
   "source": [
    "df1.to_csv(\"cars_table.csv\", index=False, sep=\";\")"
   ]
  },
  {
   "cell_type": "markdown",
   "id": "5d6c728d",
   "metadata": {},
   "source": [
    "## BeautifulSoup Solution\n",
    "#### Retrieve the page using __BeautifulSoup__, and parse the XML to extract the desired data."
   ]
  },
  {
   "cell_type": "code",
   "execution_count": 42,
   "id": "a585845c",
   "metadata": {},
   "outputs": [],
   "source": [
    "html = requests.get(url)\n",
    "soup = BeautifulSoup(html.text, 'html.parser')"
   ]
  },
  {
   "cell_type": "code",
   "execution_count": 43,
   "id": "9db9abeb",
   "metadata": {},
   "outputs": [],
   "source": [
    "cars_table = soup.find(attrs={\"class\": \"wikitable\"})"
   ]
  },
  {
   "cell_type": "markdown",
   "id": "7bea660f",
   "metadata": {},
   "source": [
    "#### Loop through *th* elements to get the table columns."
   ]
  },
  {
   "cell_type": "code",
   "execution_count": 44,
   "id": "29d33c47",
   "metadata": {},
   "outputs": [],
   "source": [
    "df_columns = [header.text.strip('\\n') for header in cars_table.find_all(\"th\")]"
   ]
  },
  {
   "cell_type": "markdown",
   "id": "1e70a9b7",
   "metadata": {},
   "source": [
    "#### Parse *tr* elements one at a time, and store the content in each row's *td* elements in lists."
   ]
  },
  {
   "cell_type": "code",
   "execution_count": 45,
   "id": "f7ee0c34",
   "metadata": {},
   "outputs": [],
   "source": [
    "df_data = []\n",
    "for row in cars_table.find_all(\"tr\"):\n",
    "    row_cells = row.find_all(\"td\")\n",
    "    \n",
    "    if row_cells:\n",
    "        df_data.append([cell.text.strip('\\n') for cell in row_cells])"
   ]
  },
  {
   "cell_type": "markdown",
   "id": "7e0489b2",
   "metadata": {},
   "source": [
    "#### Manually create a Pandas dataframe from the retrieved columns and rows."
   ]
  },
  {
   "cell_type": "code",
   "execution_count": 46,
   "id": "4a2353bc",
   "metadata": {},
   "outputs": [],
   "source": [
    "df2 = pd.DataFrame(data=df_data, columns=df_columns)"
   ]
  },
  {
   "cell_type": "code",
   "execution_count": 47,
   "id": "1754bb07",
   "metadata": {},
   "outputs": [
    {
     "data": {
      "text/html": [
       "<div>\n",
       "<style scoped>\n",
       "    .dataframe tbody tr th:only-of-type {\n",
       "        vertical-align: middle;\n",
       "    }\n",
       "\n",
       "    .dataframe tbody tr th {\n",
       "        vertical-align: top;\n",
       "    }\n",
       "\n",
       "    .dataframe thead th {\n",
       "        text-align: right;\n",
       "    }\n",
       "</style>\n",
       "<table border=\"1\" class=\"dataframe\">\n",
       "  <thead>\n",
       "    <tr style=\"text-align: right;\">\n",
       "      <th></th>\n",
       "      <th>Year</th>\n",
       "      <th>Make</th>\n",
       "      <th>Model</th>\n",
       "      <th>Description</th>\n",
       "      <th>Price</th>\n",
       "    </tr>\n",
       "  </thead>\n",
       "  <tbody>\n",
       "    <tr>\n",
       "      <th>0</th>\n",
       "      <td>1997</td>\n",
       "      <td>Ford</td>\n",
       "      <td>E350</td>\n",
       "      <td>ac, abs, moon</td>\n",
       "      <td>3000.00</td>\n",
       "    </tr>\n",
       "    <tr>\n",
       "      <th>1</th>\n",
       "      <td>1999</td>\n",
       "      <td>Chevy</td>\n",
       "      <td>Venture \"Extended Edition\"</td>\n",
       "      <td></td>\n",
       "      <td>4900.00</td>\n",
       "    </tr>\n",
       "    <tr>\n",
       "      <th>2</th>\n",
       "      <td>1999</td>\n",
       "      <td>Chevy</td>\n",
       "      <td>Venture \"Extended Edition, Very Large\"</td>\n",
       "      <td></td>\n",
       "      <td>5000.00</td>\n",
       "    </tr>\n",
       "    <tr>\n",
       "      <th>3</th>\n",
       "      <td>1996</td>\n",
       "      <td>Jeep</td>\n",
       "      <td>Grand Cherokee</td>\n",
       "      <td>MUST SELL!air, moon roof, loaded</td>\n",
       "      <td>4799.00</td>\n",
       "    </tr>\n",
       "  </tbody>\n",
       "</table>\n",
       "</div>"
      ],
      "text/plain": [
       "   Year   Make                                   Model  \\\n",
       "0  1997   Ford                                    E350   \n",
       "1  1999  Chevy              Venture \"Extended Edition\"   \n",
       "2  1999  Chevy  Venture \"Extended Edition, Very Large\"   \n",
       "3  1996   Jeep                          Grand Cherokee   \n",
       "\n",
       "                        Description    Price  \n",
       "0                     ac, abs, moon  3000.00  \n",
       "1                                    4900.00  \n",
       "2                                    5000.00  \n",
       "3  MUST SELL!air, moon roof, loaded  4799.00  "
      ]
     },
     "execution_count": 47,
     "metadata": {},
     "output_type": "execute_result"
    }
   ],
   "source": [
    "df2.head()"
   ]
  },
  {
   "cell_type": "markdown",
   "id": "e10177ef",
   "metadata": {},
   "source": [
    "#### Change the datatypes as necessary."
   ]
  },
  {
   "cell_type": "code",
   "execution_count": 48,
   "id": "c74e13d5",
   "metadata": {},
   "outputs": [
    {
     "data": {
      "text/plain": [
       "Year           object\n",
       "Make           object\n",
       "Model          object\n",
       "Description    object\n",
       "Price          object\n",
       "dtype: object"
      ]
     },
     "execution_count": 48,
     "metadata": {},
     "output_type": "execute_result"
    }
   ],
   "source": [
    "df2.dtypes"
   ]
  },
  {
   "cell_type": "code",
   "execution_count": 49,
   "id": "9572f570",
   "metadata": {},
   "outputs": [],
   "source": [
    "df2.Year = df2.Year.astype(int)\n",
    "df2.Price = df2.Price.astype(float)"
   ]
  },
  {
   "cell_type": "code",
   "execution_count": 50,
   "id": "31d35e69",
   "metadata": {},
   "outputs": [
    {
     "data": {
      "text/plain": [
       "Year             int64\n",
       "Make            object\n",
       "Model           object\n",
       "Description     object\n",
       "Price          float64\n",
       "dtype: object"
      ]
     },
     "execution_count": 50,
     "metadata": {},
     "output_type": "execute_result"
    }
   ],
   "source": [
    "df2.dtypes"
   ]
  },
  {
   "cell_type": "markdown",
   "id": "b126ad12",
   "metadata": {},
   "source": [
    "#### Store the resulting dataframe in a CSV file (as above)."
   ]
  },
  {
   "cell_type": "code",
   "execution_count": 51,
   "id": "2dbc8c6b",
   "metadata": {},
   "outputs": [],
   "source": [
    "df2.to_csv(\"cars_table2.csv\", index=False, sep=\";\")"
   ]
  },
  {
   "cell_type": "code",
   "execution_count": null,
   "id": "1a2c5dff",
   "metadata": {},
   "outputs": [],
   "source": []
  }
 ],
 "metadata": {
  "kernelspec": {
   "display_name": "Python 3 (ipykernel)",
   "language": "python",
   "name": "python3"
  },
  "language_info": {
   "codemirror_mode": {
    "name": "ipython",
    "version": 3
   },
   "file_extension": ".py",
   "mimetype": "text/x-python",
   "name": "python",
   "nbconvert_exporter": "python",
   "pygments_lexer": "ipython3",
   "version": "3.9.12"
  }
 },
 "nbformat": 4,
 "nbformat_minor": 5
}
